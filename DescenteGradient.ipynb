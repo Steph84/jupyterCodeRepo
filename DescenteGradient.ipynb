{
 "cells": [
  {
   "cell_type": "code",
   "execution_count": null,
   "id": "acb05667",
   "metadata": {},
   "outputs": [],
   "source": []
  },
  {
   "cell_type": "code",
   "execution_count": 4,
   "id": "849f6ce8",
   "metadata": {},
   "outputs": [],
   "source": [
    "# fct to minimize\n",
    "fc = lambda x, y: (3*x**2) + (x*y) + (5*y**2)\n",
    "\n",
    "# partial derivative\n",
    "partial_derivative_x = lambda x, y: (6*x) + y\n",
    "partial_derivative_y = lambda x, y: (10*y) + x\n",
    "\n",
    "# set variables\n",
    "x = 10\n",
    "y = -13\n",
    "\n",
    "# learning rate\n",
    "learning_rate = 0.15"
   ]
  },
  {
   "cell_type": "code",
   "execution_count": 5,
   "id": "97eab0a7",
   "metadata": {},
   "outputs": [
    {
     "name": "stdout",
     "output_type": "stream",
     "text": [
      "Fc =  165.85750000000002\n",
      "Fc =  45.25144374999999\n",
      "Fc =  12.92990185937499\n",
      "Fc =  3.7057671658984344\n",
      "Fc =  1.0622961889506823\n",
      "Fc =  0.3045218989642044\n",
      "Fc =  0.0872954848409103\n",
      "Fc =  0.025024479645047032\n",
      "Fc =  0.007173619399544313\n",
      "Fc =  0.0020564189957267354\n",
      "Fc =  0.0005895014567277992\n",
      "Fc =  0.00016898889195569007\n",
      "Fc =  4.844304501455993e-05\n",
      "Fc =  1.3886880866098674e-05\n",
      "Fc =  3.980869908802315e-06\n",
      "Fc =  1.141172404632275e-06\n",
      "Fc =  3.271331359547016e-07\n",
      "Fc =  9.377731901433554e-08\n",
      "Fc =  2.6882588753510446e-08\n",
      "Fc =  7.70627253675158e-09\n",
      "X =  -8.91521127931195e-06\n",
      "Y =  -3.776544101317608e-05\n"
     ]
    }
   ],
   "source": [
    "for epoch in range(0, 20):\n",
    "    # compute gradient\n",
    "    x_gradient = partial_derivative_x(x, y)\n",
    "    y_gradient = partial_derivative_y(x, y)\n",
    "    \n",
    "    # apply gradient descent\n",
    "    x = x - learning_rate * x_gradient\n",
    "    y = y - learning_rate * y_gradient\n",
    "    \n",
    "    print(\"Fc = \", fc(x, y))\n",
    "    \n",
    "# print final variable values\n",
    "print(\"X = \", x)\n",
    "print(\"Y = \", y)\n"
   ]
  },
  {
   "cell_type": "code",
   "execution_count": null,
   "id": "4a9c2d98",
   "metadata": {},
   "outputs": [],
   "source": []
  }
 ],
 "metadata": {
  "kernelspec": {
   "display_name": "Python 3 (ipykernel)",
   "language": "python",
   "name": "python3"
  },
  "language_info": {
   "codemirror_mode": {
    "name": "ipython",
    "version": 3
   },
   "file_extension": ".py",
   "mimetype": "text/x-python",
   "name": "python",
   "nbconvert_exporter": "python",
   "pygments_lexer": "ipython3",
   "version": "3.8.10"
  }
 },
 "nbformat": 4,
 "nbformat_minor": 5
}
