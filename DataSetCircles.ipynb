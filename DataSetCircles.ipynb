{
 "cells": [
  {
   "cell_type": "code",
   "execution_count": 1,
   "id": "37470ddb",
   "metadata": {},
   "outputs": [],
   "source": [
    "import numpy as np\n",
    "import matplotlib.pyplot as plt"
   ]
  },
  {
   "cell_type": "code",
   "execution_count": 9,
   "id": "b8a674a9",
   "metadata": {},
   "outputs": [],
   "source": [
    "row_per_class = 20"
   ]
  },
  {
   "cell_type": "code",
   "execution_count": 63,
   "id": "328b4ae0",
   "metadata": {},
   "outputs": [],
   "source": [
    "def get_dataset():\n",
    "    # generate rows\n",
    "    interior_r = 3\n",
    "    features = np.empty([row_per_class, 2])\n",
    "    for row in range(row_per_class):\n",
    "        interior_x = np.random.randint(0, interior_r) * np.cos(np.random.random_sample() * np.pi * 2)\n",
    "        interior_y = np.random.randint(0, interior_r) * np.cos(np.random.random_sample() * np.pi * 2)\n",
    "        features[row] = np.array([interior_x, interior_y])\n",
    "        \n",
    "    \n",
    "#     sick = np.random.randn(row_per_class, 2) + np.array([-2, -2])\n",
    "#     print(sick)\n",
    "#     healthy = np.random.randn(row_per_class, 2) + np.array([2, 2])\n",
    "#     features = np.vstack([sick, healthy])\n",
    "#     print (features.shape)\n",
    "#     print(healthy)\n",
    "    \n",
    "#     targets = np.concatenate((np.zeros(row_per_class), np.ones(row_per_class)))\n",
    "    targets = np.zeros(row_per_class)\n",
    "    return features, targets"
   ]
  },
  {
   "cell_type": "code",
   "execution_count": 65,
   "id": "1fef89fe",
   "metadata": {},
   "outputs": [
    {
     "data": {
      "image/png": "[encoded data removed]",
      "text/plain": [
       "<Figure size 432x288 with 1 Axes>"
      ]
     },
     "metadata": {
      "needs_background": "light"
     },
     "output_type": "display_data"
    }
   ],
   "source": [
    "features, targets = get_dataset()\n",
    "\n",
    "# plot points\n",
    "plt.scatter(features[:, 0], features[:, 1], s=40, c=targets, cmap=plt.cm.Spectral)\n",
    "plt.show()"
   ]
  },
  {
   "cell_type": "code",
   "execution_count": null,
   "id": "c41e7eab",
   "metadata": {},
   "outputs": [],
   "source": []
  }
 ],
 "metadata": {
  "kernelspec": {
   "display_name": "Python 3 (ipykernel)",
   "language": "python",
   "name": "python3"
  },
  "language_info": {
   "codemirror_mode": {
    "name": "ipython",
    "version": 3
   },
   "file_extension": ".py",
   "mimetype": "text/x-python",
   "name": "python",
   "nbconvert_exporter": "python",
   "pygments_lexer": "ipython3",
   "version": "3.8.10"
  }
 },
 "nbformat": 4,
 "nbformat_minor": 5
}
