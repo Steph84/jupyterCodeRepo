{
 "cells": [
  {
   "cell_type": "code",
   "execution_count": 1,
   "id": "dd75ef73",
   "metadata": {},
   "outputs": [],
   "source": [
    "import numpy as np"
   ]
  },
  {
   "cell_type": "code",
   "execution_count": 20,
   "id": "2c541c3f",
   "metadata": {},
   "outputs": [],
   "source": [
    "row_per_class = 5\n",
    "neurone_nb = 2"
   ]
  },
  {
   "cell_type": "code",
   "execution_count": 21,
   "id": "833119db",
   "metadata": {},
   "outputs": [],
   "source": [
    "def get_dataset():\n",
    "    # number of rows\n",
    "    # generate rows\n",
    "    sick = np.random.randn(row_per_class, 2) + np.array([-2, -2])\n",
    "    healthy = np.random.randn(row_per_class, 2) + np.array([2, 2])\n",
    "    \n",
    "    features = np.vstack([sick, healthy])\n",
    "    targets = np.concatenate((np.zeros(row_per_class), np.ones(row_per_class)))\n",
    "    \n",
    "    return features, targets"
   ]
  },
  {
   "cell_type": "code",
   "execution_count": 27,
   "id": "87ffcef9",
   "metadata": {},
   "outputs": [],
   "source": [
    "def init_variables():\n",
    "    # weight and bias\n",
    "    weights = np.random.normal(size=neurone_nb)\n",
    "    bias = 0\n",
    "    return weights, bias"
   ]
  },
  {
   "cell_type": "code",
   "execution_count": 34,
   "id": "ada1d8e2",
   "metadata": {},
   "outputs": [],
   "source": [
    "def pre_activation(features, weights, bias):\n",
    "    \n",
    "    return np.dot(features, weights) + bias"
   ]
  },
  {
   "cell_type": "code",
   "execution_count": 36,
   "id": "6fb5ad16",
   "metadata": {},
   "outputs": [],
   "source": [
    "def activation(z):\n",
    "    return 1/(1+np.exp(-z))    "
   ]
  },
  {
   "cell_type": "code",
   "execution_count": 39,
   "id": "1e18ceae",
   "metadata": {},
   "outputs": [
    {
     "name": "stdout",
     "output_type": "stream",
     "text": [
      "[-0.23660301 -0.63475028 -0.97116793 -0.66522211 -0.51681523  0.53449203\n",
      "  0.58953808 -0.19762367  0.78554885  0.1944978 ]\n",
      "[0.44112366 0.34643421 0.27464777 0.33956751 0.37359724 0.6305302\n",
      " 0.64325915 0.45075425 0.68687478 0.54847174]\n"
     ]
    }
   ],
   "source": [
    "features, targets = get_dataset()\n",
    "weights, bias = init_variables()\n",
    "z = pre_activation(features, weights, bias)\n",
    "a = activation(z)\n",
    "print(z)\n",
    "print(a)"
   ]
  },
  {
   "cell_type": "code",
   "execution_count": null,
   "id": "a9a0bc68",
   "metadata": {},
   "outputs": [],
   "source": []
  }
 ],
 "metadata": {
  "kernelspec": {
   "display_name": "Python 3 (ipykernel)",
   "language": "python",
   "name": "python3"
  },
  "language_info": {
   "codemirror_mode": {
    "name": "ipython",
    "version": 3
   },
   "file_extension": ".py",
   "mimetype": "text/x-python",
   "name": "python",
   "nbconvert_exporter": "python",
   "pygments_lexer": "ipython3",
   "version": "3.8.10"
  }
 },
 "nbformat": 4,
 "nbformat_minor": 5
}
